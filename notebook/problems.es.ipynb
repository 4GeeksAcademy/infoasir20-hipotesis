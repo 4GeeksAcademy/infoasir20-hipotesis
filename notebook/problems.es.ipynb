{
 "cells": [
  {
   "cell_type": "markdown",
   "id": "d9d036c6",
   "metadata": {},
   "source": [
    "# Problemas de prueba de hipótesis"
   ]
  },
  {
   "cell_type": "code",
   "execution_count": 1,
   "id": "5edd43bc",
   "metadata": {},
   "outputs": [],
   "source": [
    "import numpy as np\n",
    "import scipy"
   ]
  },
  {
   "cell_type": "markdown",
   "id": "d157c4db",
   "metadata": {},
   "source": [
    "## Ejercicio 1\n",
    "\n",
    "Usted es un nutricionista que investiga dos tipos diferentes de dietas para ver si existe una diferencia significativa en la pérdida de peso después de un mes. Eliges dos grupos aleatorios de personas; un grupo sigue la primera dieta y el otro sigue la segunda. Al final del mes, se registra la pérdida de peso (en kg) de cada persona:\n",
    "\n",
    "| Diet 1 | Diet 2 |\n",
    "|:-------|:-------|\n",
    "| 2.0 | 3.0 |\n",
    "| 2.5 | 3.2 |\n",
    "| 3.0 | 3.1 |\n",
    "| 2.8 | 2.9 |\n",
    "| 2.3 | 2.8 |\n",
    "| 2.7 | 3.0 |\n",
    "| 2.5 | 3.2 |\n",
    "\n",
    "Con estos datos se busca responder a la siguiente pregunta: ¿Existe una diferencia significativa en la pérdida de peso promedio entre las personas que siguieron la primera dieta y las que siguieron la segunda dieta?\n",
    "\n",
    "Para sacar conclusiones, siga los siguientes puntos:\n",
    "\n",
    "- Enunciar la hipótesis: hipótesis nula y alternativa.\n",
    "- Realizar la prueba para comprobar la hipótesis. Puede utilizar la prueba t de Student.\n",
    "- Analizar las conclusiones."
   ]
  },
  {
   "cell_type": "markdown",
   "id": "0aff78c1",
   "metadata": {},
   "source": [
    "### Enunciamos la hipótesis\n",
    "- H_0: 'No existe una diferencia significativa en la perdida de peso despues de un mes'\n",
    "- H_1: 'Si wxiste una diferencia significativa en la perdida de peso despues de un mes'"
   ]
  },
  {
   "cell_type": "markdown",
   "id": "f939678f",
   "metadata": {},
   "source": [
    "### Realizamos la prueba para comprobar la hipótesis"
   ]
  },
  {
   "cell_type": "code",
   "execution_count": 2,
   "id": "8e0f3cf0",
   "metadata": {},
   "outputs": [],
   "source": [
    "alpha_1 = 0.05\n",
    "dieta_1 = np.array([2.0, 2.5, 3.0, 2.8, 2.3, 2.7, 2.5])\n",
    "dieta_2 = np.array([3.0, 3.2, 3.1, 2.9, 2.8, 3.0, 3.2])\n"
   ]
  },
  {
   "cell_type": "markdown",
   "id": "2370c8a0",
   "metadata": {},
   "source": [
    "> Aplicamos la funcioin de scipy ttest_ind() ya que tenemos dos conjuntos de dstos."
   ]
  },
  {
   "cell_type": "code",
   "execution_count": 3,
   "id": "2d87e6fd",
   "metadata": {},
   "outputs": [
    {
     "data": {
      "text/plain": [
       "0.004083270191713912"
      ]
     },
     "execution_count": 3,
     "metadata": {},
     "output_type": "execute_result"
    }
   ],
   "source": [
    "_,prueba_1 = scipy.stats.ttest_ind(dieta_1, dieta_2, nan_policy='omit')\n",
    "float(prueba_1)"
   ]
  },
  {
   "cell_type": "markdown",
   "id": "c72c7eab",
   "metadata": {},
   "source": [
    "> Verificamos la Hipotesis comparando el prueba_1 (que obtenemos con la funcion anterior) con el nivel de significancia"
   ]
  },
  {
   "cell_type": "code",
   "execution_count": 4,
   "id": "0322c3a1",
   "metadata": {},
   "outputs": [
    {
     "data": {
      "text/plain": [
       "'Rechazamos H_0 0.004083270191713912'"
      ]
     },
     "execution_count": 4,
     "metadata": {},
     "output_type": "execute_result"
    }
   ],
   "source": [
    "f'Rechazamos H_0 {prueba_1}' if prueba_1 <= alpha_1 else  f'No podemos rechazar H_0  {prueba_1}'"
   ]
  },
  {
   "cell_type": "markdown",
   "id": "f432e18e",
   "metadata": {},
   "source": [
    "## ANOVA\n",
    "\n",
    "**ANOVA** (*Analysis of Variance - Análisis de variación*) Es una técnica estadística utilizada para comparar las medidas de dos o más grupos. La idea detrás de ANOVA es descomponer la variabilidad total de los datos en dos componentes: variabilidad entre grupos y variabilidad dentro de los grupos:\n",
    "\n",
    "- **Variabilidad entre grupos**: Esta variabilidad se refiere a las diferencias entre las medias del grupo. Si esta variabilidad es considerablemente mayor que la variabilidad dentro del grupo, podría ser una indicación de que al menos una de las medias del grupo es diferente.\n",
    "- **Variabilidad dentro del grupo**: Esta variabilidad se refiere a la dispersión de los datos dentro de cada grupo. Si todos los grupos tienen una variabilidad similar, entonces cualquier diferencia notable en las medias de los grupos podría considerarse significativa.\n",
    "\n",
    "Las hipótesis en ANOVA suelen incluir:\n",
    "\n",
    "- **Hipótesis nula** ($H₀$): Las medias de todos los grupos son iguales.\n",
    "- **Hipótesis alternativa** ($H₁$): Al menos una de las medias del grupo es diferente.\n",
    "\n",
    "Si el resultado de la prueba ANOVA es significativo (por ejemplo, un valor p inferior a un umbral como 0,05), esto sugiere que al menos la media de un grupo es diferente."
   ]
  },
  {
   "cell_type": "markdown",
   "id": "fc5f3721",
   "metadata": {},
   "source": [
    "## Ejercicio 2\n",
    "\n",
    "Un agricultor decide probar tres tipos diferentes de fertilizantes para determinar si alguno es superior en términos de producción de maíz. El agricultor planta maíz en 15 parcelas idénticas y utiliza los tres fertilizantes (5 parcelas para cada tipo). Al final de la temporada mide el rendimiento de maíz (en kg) de cada parcela, con el siguiente resultado:\n",
    "\n",
    "| Fertilizante 1 | Fertilizante 2 | Fertilizante 3 |\n",
    "|:-------------|:-------------|:-------------|\n",
    "| 20 | 22 | 24 |\n",
    "| 21 | 21 | 23 |\n",
    "| 20 | 23 | 22 |\n",
    "| 19 | 22 | 23 |\n",
    "| 20 | 21 | 24 |\n",
    "\n",
    "Con estos datos busca responder la siguiente pregunta: ¿Existe una diferencia significativa en el rendimiento promedio del maíz entre los tres tipos de fertilizantes?\n",
    "\n",
    "Para ayudarte, sigue los siguientes puntos:\n",
    "\n",
    "- Enunciar la hipótesis: hipótesis nula y alternativa.\n",
    "- Realizar la prueba ANOVA.\n",
    "- Analizar las conclusiones.\n",
    "- Si un fertilizante es mejor que otro, ¿cómo podemos saberlo?"
   ]
  },
  {
   "cell_type": "markdown",
   "id": "8e677591",
   "metadata": {},
   "source": [
    "### Enunciado de la hipotesis.\n",
    "- H_0 = no existe diferencia significativa en el rendimiento promedio del maiz.\n",
    "- H_1 = sÍ existe diferencia significativa en el rendimiento promedio del maiz."
   ]
  },
  {
   "cell_type": "markdown",
   "id": "55f2d510",
   "metadata": {},
   "source": [
    "### Realizamos la prueba de ANOVA\n",
    "> inicializamos el nivel de significancia y las listas con los datos."
   ]
  },
  {
   "cell_type": "code",
   "execution_count": 5,
   "id": "eecad0ca",
   "metadata": {},
   "outputs": [],
   "source": [
    "alpha = 0.05\n",
    "fertilizante_1 = np.array([20, 21, 20, 19, 20])\n",
    "fertilizante_2 = np.array([22, 21, 23, 22, 21])\n",
    "fertilizante_3 = np.array([24, 23, 22, 23, 24])"
   ]
  },
  {
   "cell_type": "markdown",
   "id": "b9c0fb94",
   "metadata": {},
   "source": [
    "> Aplicamos la funcioin f_oneway() ya que tenemos dos o mas conjuntos de datos."
   ]
  },
  {
   "cell_type": "code",
   "execution_count": 6,
   "id": "c6677774",
   "metadata": {},
   "outputs": [
    {
     "data": {
      "text/plain": [
       "0.00014047824793190472"
      ]
     },
     "execution_count": 6,
     "metadata": {},
     "output_type": "execute_result"
    }
   ],
   "source": [
    "_,prueba = scipy.stats.f_oneway(fertilizante_1, fertilizante_2, fertilizante_3)\n",
    "float(prueba)"
   ]
  },
  {
   "cell_type": "markdown",
   "id": "0b567d19",
   "metadata": {},
   "source": [
    "> verificamos la hipotesis"
   ]
  },
  {
   "cell_type": "code",
   "execution_count": 7,
   "id": "2baa1a16",
   "metadata": {},
   "outputs": [
    {
     "data": {
      "text/plain": [
       "'Rechazamos H_0 0.00014047824793190472'"
      ]
     },
     "execution_count": 7,
     "metadata": {},
     "output_type": "execute_result"
    }
   ],
   "source": [
    "f'Rechazamos H_0 {prueba}' if prueba <= alpha else  f'No podemos rechazar H_0  {prueba}'"
   ]
  },
  {
   "cell_type": "markdown",
   "id": "5d026a38",
   "metadata": {},
   "source": [
    "> Para saber si un fertilizantes es mejor que otro."
   ]
  },
  {
   "cell_type": "markdown",
   "id": "d3ef6217",
   "metadata": {},
   "source": [
    "> para saber si un fertilizantes es mejor que otro , compararemos los fertilizantes de dos en dos y haremos una serie de IF , ELIF, y ELSE para ver cual de los 3 es el mejor- Utilizo el ttest_ind para comparar dos y el alternative = ‘greater’ para ver si el primer conjunto de datos es significativamente mayor que el segundo. "
   ]
  },
  {
   "cell_type": "code",
   "execution_count": 8,
   "id": "85a0a982",
   "metadata": {},
   "outputs": [
    {
     "data": {
      "text/plain": [
       "'El mejor fertilizante es el fertilizante numero 3'"
      ]
     },
     "execution_count": 8,
     "metadata": {},
     "output_type": "execute_result"
    }
   ],
   "source": [
    "mejor_fertilizante = 0\n",
    "_, comparar_1_2 = scipy.stats.ttest_ind(fertilizante_1, fertilizante_2, alternative='greater')\n",
    "_, comparar_1_3 = scipy.stats.ttest_ind(fertilizante_1, fertilizante_3, alternative='greater')\n",
    "_, comparar_2_3 = scipy.stats.ttest_ind(fertilizante_2, fertilizante_3, alternative='greater')\n",
    "\n",
    "if comparar_1_2 <= alpha :\n",
    "    if comparar_1_3 <= alpha :\n",
    "        mejor_fertilizante = 1\n",
    "    else:\n",
    "        mejor_fertilizante = 3\n",
    "elif comparar_2_3 <= alpha :\n",
    "    mejor_fertilizante = 2\n",
    "else:\n",
    "    mejor_fertilizante = 3\n",
    "\n",
    "f'El mejor fertilizante es el fertilizante numero {mejor_fertilizante}'        \n"
   ]
  },
  {
   "cell_type": "markdown",
   "id": "ffa738d5",
   "metadata": {},
   "source": []
  }
 ],
 "metadata": {
  "kernelspec": {
   "display_name": "Python 3",
   "language": "python",
   "name": "python3"
  },
  "language_info": {
   "codemirror_mode": {
    "name": "ipython",
    "version": 3
   },
   "file_extension": ".py",
   "mimetype": "text/x-python",
   "name": "python",
   "nbconvert_exporter": "python",
   "pygments_lexer": "ipython3",
   "version": "3.11.4"
  }
 },
 "nbformat": 4,
 "nbformat_minor": 5
}
